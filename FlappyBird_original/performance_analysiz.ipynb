{
 "cells": [
  {
   "cell_type": "code",
   "execution_count": 2,
   "metadata": {},
   "outputs": [],
   "source": [
    "from src.utils import *\n",
    "import os "
   ]
  },
  {
   "cell_type": "code",
   "execution_count": 3,
   "metadata": {},
   "outputs": [],
   "source": [
    "res_folder = \"/media/yipeng/data/FlappyBirdRL/inference_result\""
   ]
  },
  {
   "cell_type": "code",
   "execution_count": 4,
   "metadata": {},
   "outputs": [],
   "source": [
    "aa = sorted(os.listdir(res_folder))"
   ]
  },
  {
   "cell_type": "code",
   "execution_count": 4,
   "metadata": {},
   "outputs": [],
   "source": []
  },
  {
   "cell_type": "code",
   "execution_count": 5,
   "metadata": {},
   "outputs": [
    {
     "output_type": "stream",
     "name": "stdout",
     "text": "/media/yipeng/data/FlappyBirdRL/inference_result/baseline.pkl\n/media/yipeng/data/FlappyBirdRL/inference_result/double_train.pkl\n/media/yipeng/data/FlappyBirdRL/inference_result/double_train_pr_0.6.pkl\n/media/yipeng/data/FlappyBirdRL/inference_result/double_train_pr_A0.6_B0.4.pkl\n/media/yipeng/data/FlappyBirdRL/inference_result/shaping_double_train.pkl\n/media/yipeng/data/FlappyBirdRL/inference_result/shaping_double_train_pr_0.6.pkl\n/media/yipeng/data/FlappyBirdRL/inference_result/shaping_double_train_pr_A0.6_B0.4.pkl\n"
    }
   ],
   "source": [
    "res = []\n",
    "for fn in aa:\n",
    "    res.append(load_pickle(os.path.join(res_folder, fn)))\n"
   ]
  },
  {
   "cell_type": "code",
   "execution_count": 6,
   "metadata": {},
   "outputs": [],
   "source": [
    "import numpy as np\n",
    "import seaborn as sns\n",
    "import pandas as pd"
   ]
  },
  {
   "cell_type": "code",
   "execution_count": 7,
   "metadata": {},
   "outputs": [],
   "source": [
    "from matplotlib import pyplot as plt"
   ]
  },
  {
   "cell_type": "code",
   "execution_count": 12,
   "metadata": {},
   "outputs": [
    {
     "output_type": "error",
     "ename": "AttributeError",
     "evalue": "'AxesSubplot' object has no attribute 'setxlabels'",
     "traceback": [
      "\u001b[0;31m---------------------------------------------------------------------------\u001b[0m",
      "\u001b[0;31mAttributeError\u001b[0m                            Traceback (most recent call last)",
      "\u001b[0;32m<ipython-input-12-3f8046ed500d>\u001b[0m in \u001b[0;36m<module>\u001b[0;34m\u001b[0m\n\u001b[1;32m      8\u001b[0m \u001b[0max\u001b[0m \u001b[0;34m=\u001b[0m \u001b[0msns\u001b[0m\u001b[0;34m.\u001b[0m\u001b[0mswarmplot\u001b[0m\u001b[0;34m(\u001b[0m\u001b[0mdata\u001b[0m\u001b[0;34m=\u001b[0m\u001b[0mres\u001b[0m\u001b[0;34m.\u001b[0m\u001b[0mT\u001b[0m\u001b[0;34m,\u001b[0m \u001b[0medgecolor\u001b[0m\u001b[0;34m=\u001b[0m\u001b[0;34m\"0.1\"\u001b[0m\u001b[0;34m,\u001b[0m\u001b[0mlinewidth\u001b[0m\u001b[0;34m=\u001b[0m\u001b[0;36m0.5\u001b[0m\u001b[0;34m,\u001b[0m \u001b[0msize\u001b[0m\u001b[0;34m=\u001b[0m\u001b[0;36m3.2\u001b[0m\u001b[0;34m,\u001b[0m \u001b[0morient\u001b[0m\u001b[0;34m=\u001b[0m\u001b[0;34m\"h\"\u001b[0m\u001b[0;34m)\u001b[0m\u001b[0;34m\u001b[0m\u001b[0;34m\u001b[0m\u001b[0m\n\u001b[1;32m      9\u001b[0m \u001b[0max\u001b[0m\u001b[0;34m.\u001b[0m\u001b[0mset_yticklabels\u001b[0m\u001b[0;34m(\u001b[0m\u001b[0;34m[\u001b[0m\u001b[0;34m\"baseline\"\u001b[0m\u001b[0;34m,\u001b[0m\u001b[0;34m\"double Q\"\u001b[0m\u001b[0;34m,\u001b[0m\u001b[0;34m\"double Q PR\"\u001b[0m\u001b[0;34m,\u001b[0m\u001b[0;34m\"double Q PR $\\\\beta$=0.4\"\u001b[0m\u001b[0;34m,\u001b[0m \u001b[0;34m\"double Q RS\"\u001b[0m\u001b[0;34m,\u001b[0m\u001b[0;34m\"double Q PR RS\"\u001b[0m\u001b[0;34m,\u001b[0m\u001b[0;34m\"double Q PR $\\\\beta$=0.4 RS\"\u001b[0m\u001b[0;34m]\u001b[0m\u001b[0;34m)\u001b[0m\u001b[0;34m\u001b[0m\u001b[0;34m\u001b[0m\u001b[0m\n\u001b[0;32m---> 10\u001b[0;31m \u001b[0max\u001b[0m\u001b[0;34m.\u001b[0m\u001b[0msetxlabels\u001b[0m\u001b[0;34m(\u001b[0m\u001b[0;34m\"score\"\u001b[0m\u001b[0;34m)\u001b[0m\u001b[0;34m\u001b[0m\u001b[0;34m\u001b[0m\u001b[0m\n\u001b[0m\u001b[1;32m     11\u001b[0m \u001b[0;31m#ax.setp( ax.xaxis.get_majorticklabels(), rotation=-45, ha=\"left\" )\u001b[0m\u001b[0;34m\u001b[0m\u001b[0;34m\u001b[0m\u001b[0;34m\u001b[0m\u001b[0m\n\u001b[1;32m     12\u001b[0m \u001b[0mplt\u001b[0m\u001b[0;34m.\u001b[0m\u001b[0mtight_layout\u001b[0m\u001b[0;34m(\u001b[0m\u001b[0;34m)\u001b[0m\u001b[0;34m\u001b[0m\u001b[0;34m\u001b[0m\u001b[0m\n",
      "\u001b[0;31mAttributeError\u001b[0m: 'AxesSubplot' object has no attribute 'setxlabels'"
     ]
    }
   ],
   "source": [
    "plt.tight_layout()\n",
    "plt.style.use(\"dark_background\")\n",
    "res = np.array(res)\n",
    "#ax = sns.boxplot(x=\"day\", y=\"total_bill\", data=res)\n",
    "ax = sns.boxplot( data=res.T, orient=\"h\")\n",
    "#ax = sns.violinplot( data=res.T, width=2)\n",
    "#ax = sns.swarmplot(x=\"variable\", y=\"value\",data=df, size=3.2)\n",
    "ax = sns.swarmplot(data=res.T, edgecolor=\"0.1\",linewidth=0.5, size=3.2, orient=\"h\")\n",
    "ax.set_yticklabels([\"baseline\",\"double Q\",\"double Q PR\",\"double Q PR $\\\\beta$=0.4\", \"double Q RS\",\"double Q PR RS\",\"double Q PR $\\\\beta$=0.4 RS\"])\n",
    "ax.set_xlabel(\"score\")\n",
    "#ax.setp( ax.xaxis.get_majorticklabels(), rotation=-45, ha=\"left\" )\n",
    "plt.tight_layout()\n",
    "plt.savefig(\"test.png\", transparent=True, dpi = 300)\n"
   ]
  },
  {
   "cell_type": "code",
   "execution_count": 36,
   "metadata": {},
   "outputs": [
    {
     "output_type": "stream",
     "name": "stdout",
     "text": "/media/yipeng/data/FlappyBirdRL/inference_avg_click/baseline.pkl\n/media/yipeng/data/FlappyBirdRL/inference_avg_click/double_train.pkl\n/media/yipeng/data/FlappyBirdRL/inference_avg_click/double_train_pr_0.6.pkl\n/media/yipeng/data/FlappyBirdRL/inference_avg_click/double_train_pr_A0.6_B0.4.pkl\n/media/yipeng/data/FlappyBirdRL/inference_avg_click/shaping_double_train.pkl\n/media/yipeng/data/FlappyBirdRL/inference_avg_click/shaping_double_train_pr_0.6.pkl\n/media/yipeng/data/FlappyBirdRL/inference_avg_click/shaping_double_train_pr_A0.6_B0.4.pkl\n"
    }
   ],
   "source": [
    "res_folder = \"/media/yipeng/data/FlappyBirdRL/inference_avg_click\"\n",
    "aa = sorted(os.listdir(res_folder))\n",
    "res = []\n",
    "for fn in aa:\n",
    "    if \"test\" in fn:\n",
    "        continue\n",
    "    res.append(load_pickle(os.path.join(res_folder, fn)))"
   ]
  },
  {
   "cell_type": "code",
   "execution_count": 48,
   "metadata": {},
   "outputs": [
    {
     "output_type": "stream",
     "name": "stdout",
     "text": "4.3197517370820515\n2.2951498262973185\n2.0534996045531577\n2.1665376461974586\n2.2075601540075707\n2.0011889615216734\n2.337940107156525\n"
    }
   ],
   "source": [
    "for r in res:\n",
    "    a = np.array(r[\"action\"])\n",
    "    f = np.array(r[\"frame\"])\n",
    "    print(np.mean(a/f*100*0.3))"
   ]
  },
  {
   "cell_type": "code",
   "execution_count": 46,
   "metadata": {},
   "outputs": [
    {
     "output_type": "execute_result",
     "data": {
      "text/plain": "array([6.57051282, 6.62393162, 6.73076923, 6.62393162, 6.51709402,\n       6.67735043, 6.51709402, 6.73076923, 6.67735043, 6.35683761,\n       6.51709402, 9.27835052, 6.83760684, 6.51709402, 6.73076923,\n       6.91747573, 6.73076923, 6.51709402, 8.01815431, 6.3034188 ,\n       6.51709402, 6.57142857, 6.78418803, 6.57051282, 6.35683761,\n       6.73076923, 6.57051282, 6.46367521, 6.46367521, 6.41025641,\n       6.41025641, 6.73076923, 6.89102564, 6.41025641, 6.94444444,\n       6.3034188 , 6.46367521, 6.03632479, 6.51709402, 6.83760684,\n       6.35683761, 6.78418803, 6.57051282, 6.35683761, 7.05882353,\n       6.63811563, 6.67735043, 6.3034188 , 6.62393162, 6.78418803])"
     },
     "metadata": {},
     "execution_count": 46
    }
   ],
   "source": []
  },
  {
   "cell_type": "code",
   "execution_count": null,
   "metadata": {},
   "outputs": [],
   "source": []
  }
 ],
 "metadata": {
  "language_info": {
   "codemirror_mode": {
    "name": "ipython",
    "version": 3
   },
   "file_extension": ".py",
   "mimetype": "text/x-python",
   "name": "python",
   "nbconvert_exporter": "python",
   "pygments_lexer": "ipython3",
   "version": "3.7.3-final"
  },
  "orig_nbformat": 2,
  "kernelspec": {
   "name": "python37364bitbaseconda41889e6dbd7942e6b966981bbd4707c5",
   "display_name": "Python 3.7.3 64-bit ('base': conda)"
  }
 },
 "nbformat": 4,
 "nbformat_minor": 2
}